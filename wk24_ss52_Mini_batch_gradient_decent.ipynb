{
  "nbformat": 4,
  "nbformat_minor": 0,
  "metadata": {
    "colab": {
      "provenance": [],
      "authorship_tag": "ABX9TyMTLaVdBC6JGBUaDroBHuv2",
      "include_colab_link": true
    },
    "kernelspec": {
      "name": "python3",
      "display_name": "Python 3"
    },
    "language_info": {
      "name": "python"
    }
  },
  "cells": [
    {
      "cell_type": "markdown",
      "metadata": {
        "id": "view-in-github",
        "colab_type": "text"
      },
      "source": [
        "<a href=\"https://colab.research.google.com/github/Shahsawar51/MY_DATA_SCIENCE_JOURNEY/blob/main/wk24_ss52_Mini_batch_gradient_decent.ipynb\" target=\"_parent\"><img src=\"https://colab.research.google.com/assets/colab-badge.svg\" alt=\"Open In Colab\"/></a>"
      ]
    },
    {
      "cell_type": "code",
      "source": [
        "pip install --upgrade scikit-learn\n"
      ],
      "metadata": {
        "colab": {
          "base_uri": "https://localhost:8080/"
        },
        "id": "jF0UBpth4VOY",
        "outputId": "c20be987-747a-4938-eca3-73a29c0e8fb4"
      },
      "execution_count": 24,
      "outputs": [
        {
          "output_type": "stream",
          "name": "stdout",
          "text": [
            "Requirement already satisfied: scikit-learn in /usr/local/lib/python3.11/dist-packages (1.6.1)\n",
            "Requirement already satisfied: numpy>=1.19.5 in /usr/local/lib/python3.11/dist-packages (from scikit-learn) (1.26.4)\n",
            "Requirement already satisfied: scipy>=1.6.0 in /usr/local/lib/python3.11/dist-packages (from scikit-learn) (1.13.1)\n",
            "Requirement already satisfied: joblib>=1.2.0 in /usr/local/lib/python3.11/dist-packages (from scikit-learn) (1.4.2)\n",
            "Requirement already satisfied: threadpoolctl>=3.1.0 in /usr/local/lib/python3.11/dist-packages (from scikit-learn) (3.5.0)\n"
          ]
        }
      ]
    },
    {
      "cell_type": "code",
      "execution_count": 25,
      "metadata": {
        "id": "hZZEZc4B1pVv"
      },
      "outputs": [],
      "source": [
        "import numpy as np\n",
        "from sklearn.datasets import load_diabetes\n",
        "from sklearn.model_selection import train_test_split\n",
        "from sklearn.preprocessing import StandardScaler\n",
        "from sklearn.metrics import r2_score\n",
        "from sklearn.linear_model import SGDRegressor"
      ]
    },
    {
      "cell_type": "code",
      "source": [
        "# Load the diabetes dataset\n",
        "diabetes = load_diabetes()\n",
        "X = diabetes.data\n",
        "y = diabetes.target"
      ],
      "metadata": {
        "id": "esEciVEo1471"
      },
      "execution_count": 26,
      "outputs": []
    },
    {
      "cell_type": "code",
      "source": [
        "# Split the data into training and test sets\n",
        "X_train, X_test, y_train, y_test = train_test_split(X, y, test_size=0.2, random_state=42)"
      ],
      "metadata": {
        "id": "123UZChT167n"
      },
      "execution_count": 27,
      "outputs": []
    },
    {
      "cell_type": "code",
      "source": [
        "# Feature scaling\n",
        "scaler = StandardScaler()\n",
        "X_train_scaled = scaler.fit_transform(X_train)\n",
        "X_test_scaled = scaler.transform(X_test)"
      ],
      "metadata": {
        "id": "yc1D7bo718w6"
      },
      "execution_count": 28,
      "outputs": []
    },
    {
      "cell_type": "code",
      "source": [],
      "metadata": {
        "id": "w0MlzMMX1_ya"
      },
      "execution_count": 28,
      "outputs": []
    },
    {
      "cell_type": "code",
      "source": [
        "# Initialize SGDRegressor\n",
        "sgd_regressor = SGDRegressor(\n",
        "    max_iter=500,                # Total epochs\n",
        "    learning_rate='constant',    # Fixed learning rate\n",
        "    eta0=0.0001,                 # Initial learning rate\n",
        "    random_state=42             # For reproducibility\n",
        ")\n",
        "\n",
        "# Fit the model on scaled training data\n",
        "sgd_regressor.fit(X_train_scaled, y_train)\n",
        "\n",
        "# Make predictions\n",
        "y_pred = sgd_regressor.predict(X_test_scaled)\n",
        "\n",
        "# Evaluate the model\n",
        "print(f'Intercept: {sgd_regressor.intercept_}')\n",
        "print(f'Coefficients: {sgd_regressor.coef_}')\n",
        "print(f'R² Score: {r2_score(y_test, y_pred)}')\n"
      ],
      "metadata": {
        "colab": {
          "base_uri": "https://localhost:8080/"
        },
        "id": "tqFJxkhP2FgT",
        "outputId": "dc624715-a4ff-4699-8b4e-b4dd570bca3e"
      },
      "execution_count": 29,
      "outputs": [
        {
          "output_type": "stream",
          "name": "stdout",
          "text": [
            "Intercept: [153.74109845]\n",
            "Coefficients: [  1.95120855 -11.41814927  26.31732965  16.58815808  -7.22495972\n",
            "  -4.29746049  -8.95059172   7.67684916  20.96552165   2.63753176]\n",
            "R² Score: 0.45541203739843916\n"
          ]
        }
      ]
    },
    {
      "cell_type": "code",
      "source": [],
      "metadata": {
        "id": "WbMSjciD2wE5"
      },
      "execution_count": 29,
      "outputs": []
    },
    {
      "cell_type": "code",
      "source": [],
      "metadata": {
        "id": "FlbciTN82wXe"
      },
      "execution_count": 29,
      "outputs": []
    },
    {
      "cell_type": "code",
      "source": [
        "class SGDRegressor:\n",
        "    def __init__(self, learning_rate=0.01, epochs=100, batch_size=1):\n",
        "        self.coef_ = None\n",
        "        self.intercept_ = None\n",
        "        self.lr = learning_rate\n",
        "        self.epochs = epochs\n",
        "        self.batch_size = batch_size\n",
        "\n",
        "    def fit(self, X_train, y_train):\n",
        "        np.random.seed(42)\n",
        "        self.intercept_ = 0\n",
        "        self.coef_ = np.zeros(X_train.shape[1])\n",
        "\n",
        "        for epoch in range(self.epochs):\n",
        "            indices = np.arange(X_train.shape[0])\n",
        "            np.random.shuffle(indices)\n",
        "\n",
        "            # Mini-batch training\n",
        "            for i in range(0, X_train.shape[0], self.batch_size):\n",
        "                batch_indices = indices[i:i + self.batch_size]\n",
        "                X_batch = X_train[batch_indices]\n",
        "                y_batch = y_train[batch_indices]\n",
        "\n",
        "                y_pred = np.dot(X_batch, self.coef_) + self.intercept_\n",
        "\n",
        "                # Compute gradients (batch mean)\n",
        "                intercept_der = -2 * np.mean(y_batch - y_pred)\n",
        "                coef_der = -2 * np.dot(X_batch.T, (y_batch - y_pred)) / self.batch_size\n",
        "\n",
        "                # Update parameters\n",
        "                self.intercept_ -= self.lr * intercept_der\n",
        "                self.coef_ -= self.lr * coef_der\n",
        "\n",
        "        # Final loss\n",
        "        final_loss = np.mean((y_train - (np.dot(X_train, self.coef_) + self.intercept_)) ** 2)\n",
        "        print(f'Final Loss: {final_loss}, Intercept: {self.intercept_}, Coefficients: {self.coef_}')\n",
        "\n",
        "    def predict(self, X_test):\n",
        "        return np.dot(X_test, self.coef_) + self.intercept_"
      ],
      "metadata": {
        "id": "oH6OkqIu2wq8"
      },
      "execution_count": 30,
      "outputs": []
    },
    {
      "cell_type": "code",
      "source": [
        "# Initialize and train the custom SGDRegressor\n",
        "custom_sgd = SGDRegressor(learning_rate=0.001, epochs=100, batch_size=5)\n",
        "custom_sgd.fit(X_train_scaled, y_train)\n",
        "\n",
        "# Make predictions\n",
        "y_pred_custom = custom_sgd.predict(X_test_scaled)\n",
        "\n",
        "print(f'R² Score: {r2_score(y_test, y_pred_custom)}')"
      ],
      "metadata": {
        "colab": {
          "base_uri": "https://localhost:8080/"
        },
        "id": "sbADXsM15Mlh",
        "outputId": "20422968-27de-4c43-a3d9-47c7a921c186"
      },
      "execution_count": 42,
      "outputs": [
        {
          "output_type": "stream",
          "name": "stdout",
          "text": [
            "Final Loss: 2892.9146996075197, Intercept: 153.69125135760908, Coefficients: [  1.91904614 -11.42251949  26.22746724  16.53677013  -8.01922034\n",
            "  -3.83065054  -8.57727983   7.77217929  21.18062868   2.57797163]\n",
            "R² Score: 0.45527464333622225\n"
          ]
        }
      ]
    }
  ]
}